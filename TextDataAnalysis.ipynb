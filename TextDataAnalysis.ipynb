{
 "cells": [
  {
   "cell_type": "code",
   "execution_count": 2,
   "metadata": {},
   "outputs": [],
   "source": [
    "import pandas as pd\n",
    "import os\n",
    "import numpy as np\n",
    "import matplotlib.pyplot as plt"
   ]
  },
  {
   "cell_type": "code",
   "execution_count": 1,
   "metadata": {},
   "outputs": [
    {
     "data": {
      "application/javascript": [
       "\n",
       "        if (window._pyforest_update_imports_cell) { window._pyforest_update_imports_cell('import os'); }\n",
       "    "
      ],
      "text/plain": [
       "<IPython.core.display.Javascript object>"
      ]
     },
     "metadata": {},
     "output_type": "display_data"
    },
    {
     "data": {
      "application/javascript": [
       "\n",
       "        if (window._pyforest_update_imports_cell) { window._pyforest_update_imports_cell('import os'); }\n",
       "    "
      ],
      "text/plain": [
       "<IPython.core.display.Javascript object>"
      ]
     },
     "metadata": {},
     "output_type": "display_data"
    },
    {
     "data": {
      "application/javascript": [
       "\n",
       "        if (window._pyforest_update_imports_cell) { window._pyforest_update_imports_cell('import os'); }\n",
       "    "
      ],
      "text/plain": [
       "<IPython.core.display.Javascript object>"
      ]
     },
     "metadata": {},
     "output_type": "display_data"
    }
   ],
   "source": [
    "path='D:/Data/aclImdb/train/neg'\n",
    "os.chdir(path)\n",
    "neg_cmnt=[]\n",
    "os.chdir(path)\n",
    "def read_txt_file(file_path):\n",
    "    with open(file_path,encoding=\"utf8\") as file:\n",
    "        lines=[]\n",
    "        for line in file:\n",
    "            lines.append(line)\n",
    "    neg_cmnt.extend(lines)\n",
    "for file in os.listdir():\n",
    "    if file.endswith(\".txt\"):\n",
    "        file_path=f\"{path}\\{file}\"\n",
    "        read_txt_file(file_path)"
   ]
  },
  {
   "cell_type": "code",
   "execution_count": 4,
   "metadata": {},
   "outputs": [],
   "source": [
    "pos_cmnt=[]\n",
    "def read_txt_file(file_path):\n",
    "    with open(file_path,encoding=\"utf8\") as file:\n",
    "        lines=[]\n",
    "        for line in file:\n",
    "            lines.append(line)\n",
    "    pos_cmnt.extend(lines)\n",
    "for file in os.listdir():\n",
    "    if file.endswith(\".txt\"):\n",
    "        file_path=f\"{path}\\{file}\"\n",
    "        read_txt_file(file_path)"
   ]
  },
  {
   "cell_type": "code",
   "execution_count": 5,
   "metadata": {},
   "outputs": [
    {
     "data": {
      "text/plain": [
       "12500"
      ]
     },
     "execution_count": 5,
     "metadata": {},
     "output_type": "execute_result"
    }
   ],
   "source": [
    "#len(pos_cmnt)\n",
    "len(pos_cmnt)"
   ]
  },
  {
   "cell_type": "code",
   "execution_count": 6,
   "metadata": {},
   "outputs": [],
   "source": [
    "cmnt=[]\n",
    "for line in pos_cmnt:\n",
    "    if len(line)>0 and len(cmnt)<50:\n",
    "        cmnt.append(line)\n",
    "for line in neg_cmnt:\n",
    "    if len(line)>0 and len(cmnt)<100:\n",
    "        cmnt.append(line)"
   ]
  },
  {
   "cell_type": "code",
   "execution_count": 101,
   "metadata": {},
   "outputs": [],
   "source": [
    "res=[1]*50+[0]*50\n",
    "df=pd.DataFrame({'X':cmnt,'Y':res})\n"
   ]
  },
  {
   "cell_type": "code",
   "execution_count": 102,
   "metadata": {},
   "outputs": [],
   "source": [
    "df=df.sample(frac=1)"
   ]
  },
  {
   "cell_type": "code",
   "execution_count": 107,
   "metadata": {},
   "outputs": [
    {
     "data": {
      "text/html": [
       "<div>\n",
       "<style scoped>\n",
       "    .dataframe tbody tr th:only-of-type {\n",
       "        vertical-align: middle;\n",
       "    }\n",
       "\n",
       "    .dataframe tbody tr th {\n",
       "        vertical-align: top;\n",
       "    }\n",
       "\n",
       "    .dataframe thead th {\n",
       "        text-align: right;\n",
       "    }\n",
       "</style>\n",
       "<table border=\"1\" class=\"dataframe\">\n",
       "  <thead>\n",
       "    <tr style=\"text-align: right;\">\n",
       "      <th></th>\n",
       "      <th>X</th>\n",
       "      <th>Y</th>\n",
       "    </tr>\n",
       "  </thead>\n",
       "  <tbody>\n",
       "    <tr>\n",
       "      <th>98</th>\n",
       "      <td>i would have liked to write about the story bu...</td>\n",
       "      <td>0</td>\n",
       "    </tr>\n",
       "    <tr>\n",
       "      <th>20</th>\n",
       "      <td>the characters are unlikeable and the script i...</td>\n",
       "      <td>1</td>\n",
       "    </tr>\n",
       "    <tr>\n",
       "      <th>75</th>\n",
       "      <td>summer season is here when the choices in the ...</td>\n",
       "      <td>0</td>\n",
       "    </tr>\n",
       "    <tr>\n",
       "      <th>56</th>\n",
       "      <td>the second attempt by a new york intellectual ...</td>\n",
       "      <td>0</td>\n",
       "    </tr>\n",
       "    <tr>\n",
       "      <th>81</th>\n",
       "      <td>i had a lot of expectations from this movie an...</td>\n",
       "      <td>0</td>\n",
       "    </tr>\n",
       "    <tr>\n",
       "      <th>...</th>\n",
       "      <td>...</td>\n",
       "      <td>...</td>\n",
       "    </tr>\n",
       "    <tr>\n",
       "      <th>29</th>\n",
       "      <td>i had some expectation for the movie since it ...</td>\n",
       "      <td>1</td>\n",
       "    </tr>\n",
       "    <tr>\n",
       "      <th>67</th>\n",
       "      <td>ghost of dragstrip hollow is a typical 1950 s ...</td>\n",
       "      <td>0</td>\n",
       "    </tr>\n",
       "    <tr>\n",
       "      <th>11</th>\n",
       "      <td>the plot for descent if it actually can be cal...</td>\n",
       "      <td>1</td>\n",
       "    </tr>\n",
       "    <tr>\n",
       "      <th>54</th>\n",
       "      <td>when i was little my parents took me along to ...</td>\n",
       "      <td>0</td>\n",
       "    </tr>\n",
       "    <tr>\n",
       "      <th>22</th>\n",
       "      <td>i rented this on dvd and i kind of feel bad si...</td>\n",
       "      <td>1</td>\n",
       "    </tr>\n",
       "  </tbody>\n",
       "</table>\n",
       "<p>100 rows × 2 columns</p>\n",
       "</div>"
      ],
      "text/plain": [
       "                                                    X  Y\n",
       "98  i would have liked to write about the story bu...  0\n",
       "20  the characters are unlikeable and the script i...  1\n",
       "75  summer season is here when the choices in the ...  0\n",
       "56  the second attempt by a new york intellectual ...  0\n",
       "81  i had a lot of expectations from this movie an...  0\n",
       "..                                                ... ..\n",
       "29  i had some expectation for the movie since it ...  1\n",
       "67  ghost of dragstrip hollow is a typical 1950 s ...  0\n",
       "11  the plot for descent if it actually can be cal...  1\n",
       "54  when i was little my parents took me along to ...  0\n",
       "22  i rented this on dvd and i kind of feel bad si...  1\n",
       "\n",
       "[100 rows x 2 columns]"
      ]
     },
     "execution_count": 107,
     "metadata": {},
     "output_type": "execute_result"
    }
   ],
   "source": [
    "df"
   ]
  },
  {
   "cell_type": "code",
   "execution_count": 108,
   "metadata": {},
   "outputs": [
    {
     "data": {
      "text/html": [
       "<div>\n",
       "<style scoped>\n",
       "    .dataframe tbody tr th:only-of-type {\n",
       "        vertical-align: middle;\n",
       "    }\n",
       "\n",
       "    .dataframe tbody tr th {\n",
       "        vertical-align: top;\n",
       "    }\n",
       "\n",
       "    .dataframe thead th {\n",
       "        text-align: right;\n",
       "    }\n",
       "</style>\n",
       "<table border=\"1\" class=\"dataframe\">\n",
       "  <thead>\n",
       "    <tr style=\"text-align: right;\">\n",
       "      <th></th>\n",
       "      <th>X</th>\n",
       "      <th>Y</th>\n",
       "    </tr>\n",
       "  </thead>\n",
       "  <tbody>\n",
       "    <tr>\n",
       "      <th>98</th>\n",
       "      <td>i would have liked to write about the story bu...</td>\n",
       "      <td>0</td>\n",
       "    </tr>\n",
       "    <tr>\n",
       "      <th>20</th>\n",
       "      <td>the characters are unlikeable and the script i...</td>\n",
       "      <td>1</td>\n",
       "    </tr>\n",
       "    <tr>\n",
       "      <th>75</th>\n",
       "      <td>summer season is here when the choices in the ...</td>\n",
       "      <td>0</td>\n",
       "    </tr>\n",
       "    <tr>\n",
       "      <th>56</th>\n",
       "      <td>the second attempt by a new york intellectual ...</td>\n",
       "      <td>0</td>\n",
       "    </tr>\n",
       "    <tr>\n",
       "      <th>81</th>\n",
       "      <td>i had a lot of expectations from this movie an...</td>\n",
       "      <td>0</td>\n",
       "    </tr>\n",
       "    <tr>\n",
       "      <th>...</th>\n",
       "      <td>...</td>\n",
       "      <td>...</td>\n",
       "    </tr>\n",
       "    <tr>\n",
       "      <th>29</th>\n",
       "      <td>i had some expectation for the movie since it ...</td>\n",
       "      <td>1</td>\n",
       "    </tr>\n",
       "    <tr>\n",
       "      <th>67</th>\n",
       "      <td>ghost of dragstrip hollow is a typical   s tee...</td>\n",
       "      <td>0</td>\n",
       "    </tr>\n",
       "    <tr>\n",
       "      <th>11</th>\n",
       "      <td>the plot for descent if it actually can be cal...</td>\n",
       "      <td>1</td>\n",
       "    </tr>\n",
       "    <tr>\n",
       "      <th>54</th>\n",
       "      <td>when i was little my parents took me along to ...</td>\n",
       "      <td>0</td>\n",
       "    </tr>\n",
       "    <tr>\n",
       "      <th>22</th>\n",
       "      <td>i rented this on dvd and i kind of feel bad si...</td>\n",
       "      <td>1</td>\n",
       "    </tr>\n",
       "  </tbody>\n",
       "</table>\n",
       "<p>100 rows × 2 columns</p>\n",
       "</div>"
      ],
      "text/plain": [
       "                                                    X  Y\n",
       "98  i would have liked to write about the story bu...  0\n",
       "20  the characters are unlikeable and the script i...  1\n",
       "75  summer season is here when the choices in the ...  0\n",
       "56  the second attempt by a new york intellectual ...  0\n",
       "81  i had a lot of expectations from this movie an...  0\n",
       "..                                                ... ..\n",
       "29  i had some expectation for the movie since it ...  1\n",
       "67  ghost of dragstrip hollow is a typical   s tee...  0\n",
       "11  the plot for descent if it actually can be cal...  1\n",
       "54  when i was little my parents took me along to ...  0\n",
       "22  i rented this on dvd and i kind of feel bad si...  1\n",
       "\n",
       "[100 rows x 2 columns]"
      ]
     },
     "execution_count": 108,
     "metadata": {},
     "output_type": "execute_result"
    }
   ],
   "source": [
    "import re\n",
    "def modify(df):\n",
    "    pattern=re.compile('[\\W_]+')\n",
    "    df.X=pattern.sub(' ',df.X).lower()\n",
    "    df.X=re.sub(\"\\d+\",' ',df.X)\n",
    "    return df\n",
    "df=df.apply(modify,axis='columns')\n",
    "df"
   ]
  },
  {
   "cell_type": "code",
   "execution_count": 109,
   "metadata": {},
   "outputs": [],
   "source": [
    "import nltk\n",
    "from nltk.corpus import stopwords"
   ]
  },
  {
   "cell_type": "code",
   "execution_count": 110,
   "metadata": {},
   "outputs": [],
   "source": [
    "words=stopwords.words('english')"
   ]
  },
  {
   "cell_type": "code",
   "execution_count": 111,
   "metadata": {},
   "outputs": [],
   "source": [
    "def remove_sw(df):\n",
    "    sen=df.X.split(' ')\n",
    "    res=[]\n",
    "    for word in sen:\n",
    "        if word not in words:\n",
    "            res.append(word)\n",
    "    df.X=\" \".join(res)\n",
    "    return df"
   ]
  },
  {
   "cell_type": "code",
   "execution_count": 112,
   "metadata": {},
   "outputs": [
    {
     "data": {
      "text/html": [
       "<div>\n",
       "<style scoped>\n",
       "    .dataframe tbody tr th:only-of-type {\n",
       "        vertical-align: middle;\n",
       "    }\n",
       "\n",
       "    .dataframe tbody tr th {\n",
       "        vertical-align: top;\n",
       "    }\n",
       "\n",
       "    .dataframe thead th {\n",
       "        text-align: right;\n",
       "    }\n",
       "</style>\n",
       "<table border=\"1\" class=\"dataframe\">\n",
       "  <thead>\n",
       "    <tr style=\"text-align: right;\">\n",
       "      <th></th>\n",
       "      <th>X</th>\n",
       "      <th>Y</th>\n",
       "    </tr>\n",
       "  </thead>\n",
       "  <tbody>\n",
       "    <tr>\n",
       "      <th>98</th>\n",
       "      <td>would liked write story would liked quote coup...</td>\n",
       "      <td>0</td>\n",
       "    </tr>\n",
       "    <tr>\n",
       "      <th>20</th>\n",
       "      <td>characters unlikeable script awful waste talen...</td>\n",
       "      <td>1</td>\n",
       "    </tr>\n",
       "    <tr>\n",
       "      <th>75</th>\n",
       "      <td>summer season choices cinemas limited hottest ...</td>\n",
       "      <td>0</td>\n",
       "    </tr>\n",
       "    <tr>\n",
       "      <th>56</th>\n",
       "      <td>second attempt new york intellectual less   ye...</td>\n",
       "      <td>0</td>\n",
       "    </tr>\n",
       "    <tr>\n",
       "      <th>81</th>\n",
       "      <td>lot expectations movie since yashraj film br b...</td>\n",
       "      <td>0</td>\n",
       "    </tr>\n",
       "    <tr>\n",
       "      <th>...</th>\n",
       "      <td>...</td>\n",
       "      <td>...</td>\n",
       "    </tr>\n",
       "    <tr>\n",
       "      <th>29</th>\n",
       "      <td>expectation movie since nice star cast return ...</td>\n",
       "      <td>1</td>\n",
       "    </tr>\n",
       "    <tr>\n",
       "      <th>67</th>\n",
       "      <td>ghost dragstrip hollow typical   teens turmoil...</td>\n",
       "      <td>0</td>\n",
       "    </tr>\n",
       "    <tr>\n",
       "      <th>11</th>\n",
       "      <td>plot descent actually called plot two notewort...</td>\n",
       "      <td>1</td>\n",
       "    </tr>\n",
       "    <tr>\n",
       "      <th>54</th>\n",
       "      <td>little parents took along theater see interior...</td>\n",
       "      <td>0</td>\n",
       "    </tr>\n",
       "    <tr>\n",
       "      <th>22</th>\n",
       "      <td>rented dvd kind feel bad since dawson lugacy e...</td>\n",
       "      <td>1</td>\n",
       "    </tr>\n",
       "  </tbody>\n",
       "</table>\n",
       "<p>100 rows × 2 columns</p>\n",
       "</div>"
      ],
      "text/plain": [
       "                                                    X  Y\n",
       "98  would liked write story would liked quote coup...  0\n",
       "20  characters unlikeable script awful waste talen...  1\n",
       "75  summer season choices cinemas limited hottest ...  0\n",
       "56  second attempt new york intellectual less   ye...  0\n",
       "81  lot expectations movie since yashraj film br b...  0\n",
       "..                                                ... ..\n",
       "29  expectation movie since nice star cast return ...  1\n",
       "67  ghost dragstrip hollow typical   teens turmoil...  0\n",
       "11  plot descent actually called plot two notewort...  1\n",
       "54  little parents took along theater see interior...  0\n",
       "22  rented dvd kind feel bad since dawson lugacy e...  1\n",
       "\n",
       "[100 rows x 2 columns]"
      ]
     },
     "execution_count": 112,
     "metadata": {},
     "output_type": "execute_result"
    }
   ],
   "source": [
    "df=df.apply(remove_sw,axis='columns')\n",
    "df"
   ]
  },
  {
   "cell_type": "code",
   "execution_count": 113,
   "metadata": {},
   "outputs": [
    {
     "data": {
      "text/html": [
       "<div>\n",
       "<style scoped>\n",
       "    .dataframe tbody tr th:only-of-type {\n",
       "        vertical-align: middle;\n",
       "    }\n",
       "\n",
       "    .dataframe tbody tr th {\n",
       "        vertical-align: top;\n",
       "    }\n",
       "\n",
       "    .dataframe thead th {\n",
       "        text-align: right;\n",
       "    }\n",
       "</style>\n",
       "<table border=\"1\" class=\"dataframe\">\n",
       "  <thead>\n",
       "    <tr style=\"text-align: right;\">\n",
       "      <th></th>\n",
       "      <th>X</th>\n",
       "      <th>Y</th>\n",
       "    </tr>\n",
       "  </thead>\n",
       "  <tbody>\n",
       "    <tr>\n",
       "      <th>98</th>\n",
       "      <td>would like write stori would like quot coupl h...</td>\n",
       "      <td>0</td>\n",
       "    </tr>\n",
       "    <tr>\n",
       "      <th>20</th>\n",
       "      <td>charact unlik script aw wast talent deneuv aut...</td>\n",
       "      <td>1</td>\n",
       "    </tr>\n",
       "    <tr>\n",
       "      <th>75</th>\n",
       "      <td>summer season choic cinema limit hottest movi ...</td>\n",
       "      <td>0</td>\n",
       "    </tr>\n",
       "    <tr>\n",
       "      <th>56</th>\n",
       "      <td>second attempt new york intellectu less   year...</td>\n",
       "      <td>0</td>\n",
       "    </tr>\n",
       "    <tr>\n",
       "      <th>81</th>\n",
       "      <td>lot expect movi sinc yashraj film br br jimmi ...</td>\n",
       "      <td>0</td>\n",
       "    </tr>\n",
       "    <tr>\n",
       "      <th>...</th>\n",
       "      <td>...</td>\n",
       "      <td>...</td>\n",
       "    </tr>\n",
       "    <tr>\n",
       "      <th>29</th>\n",
       "      <td>expect movi sinc nice star cast return duo aks...</td>\n",
       "      <td>1</td>\n",
       "    </tr>\n",
       "    <tr>\n",
       "      <th>67</th>\n",
       "      <td>ghost dragstrip hollow typic   teen turmoil mo...</td>\n",
       "      <td>0</td>\n",
       "    </tr>\n",
       "    <tr>\n",
       "      <th>11</th>\n",
       "      <td>plot descent actual call plot two noteworthi e...</td>\n",
       "      <td>1</td>\n",
       "    </tr>\n",
       "    <tr>\n",
       "      <th>54</th>\n",
       "      <td>littl parent took along theater see interior o...</td>\n",
       "      <td>0</td>\n",
       "    </tr>\n",
       "    <tr>\n",
       "      <th>22</th>\n",
       "      <td>rent dvd kind feel bad sinc dawson lugaci earn...</td>\n",
       "      <td>1</td>\n",
       "    </tr>\n",
       "  </tbody>\n",
       "</table>\n",
       "<p>100 rows × 2 columns</p>\n",
       "</div>"
      ],
      "text/plain": [
       "                                                    X  Y\n",
       "98  would like write stori would like quot coupl h...  0\n",
       "20  charact unlik script aw wast talent deneuv aut...  1\n",
       "75  summer season choic cinema limit hottest movi ...  0\n",
       "56  second attempt new york intellectu less   year...  0\n",
       "81  lot expect movi sinc yashraj film br br jimmi ...  0\n",
       "..                                                ... ..\n",
       "29  expect movi sinc nice star cast return duo aks...  1\n",
       "67  ghost dragstrip hollow typic   teen turmoil mo...  0\n",
       "11  plot descent actual call plot two noteworthi e...  1\n",
       "54  littl parent took along theater see interior o...  0\n",
       "22  rent dvd kind feel bad sinc dawson lugaci earn...  1\n",
       "\n",
       "[100 rows x 2 columns]"
      ]
     },
     "execution_count": 113,
     "metadata": {},
     "output_type": "execute_result"
    }
   ],
   "source": [
    "from nltk.stem.porter import PorterStemmer\n",
    "stem=PorterStemmer()\n",
    "def stemmings(df):\n",
    "    words=df.X.split(' ')\n",
    "    res=[]\n",
    "    for word in words:\n",
    "        res.append(stem.stem(word))\n",
    "    df.X=\" \".join(res)\n",
    "    return df\n",
    "df=df.apply(stemmings,axis='columns')\n",
    "df\n"
   ]
  },
  {
   "cell_type": "code",
   "execution_count": 114,
   "metadata": {},
   "outputs": [],
   "source": [
    "from tensorflow.keras.preprocessing.text import Tokenizer\n",
    "from tensorflow.keras.preprocessing.sequence import pad_sequences"
   ]
  },
  {
   "cell_type": "code",
   "execution_count": 128,
   "metadata": {},
   "outputs": [],
   "source": [
    "vocab_dim=5000\n",
    "max_len=200\n",
    "oov_tok='<OOV>'\n",
    "trunc_type='post'\n",
    "padding_type='post'\n",
    "training_size=80\n",
    "embedding_dim=10\n"
   ]
  },
  {
   "cell_type": "code",
   "execution_count": 129,
   "metadata": {},
   "outputs": [
    {
     "name": "stdout",
     "output_type": "stream",
     "text": [
      "80 20\n"
     ]
    }
   ],
   "source": [
    "sentences,labels=list(df.X.values),list(df.Y.values)\n",
    "training_sen=sentences[:training_size]\n",
    "training_labels=labels[:training_size]\n",
    "testing_sen=sentences[training_size:]\n",
    "testing_labels=labels[training_size:]\n",
    "print(len(training_sen),len(testing_sen))"
   ]
  },
  {
   "cell_type": "code",
   "execution_count": 130,
   "metadata": {},
   "outputs": [
    {
     "data": {
      "text/plain": [
       "array([ 21,   5, 464,  17,  21,   5, 779, 657, 310, 272, 160,   3, 311,\n",
       "       161,   5, 174, 658,  21,   5, 780, 312, 465, 162, 466, 229, 781,\n",
       "       782,  72, 109,   3,  21,   5, 200, 467, 659,  10,   5, 398,  25,\n",
       "         2,   2, 468,   2,   2,   3, 783,  32, 110, 784, 399, 785, 467,\n",
       "       786, 787,   3,  44, 400, 788, 789, 790, 313, 791, 792, 793, 794,\n",
       "        32, 469, 314,  44, 795, 796, 797,  59, 470, 798,  39, 799, 130,\n",
       "       401,   3, 800, 175,   3, 176,  59, 471,  80,  11, 801, 315, 802,\n",
       "       472, 803, 201, 473,  40,  21, 804, 316, 317, 805, 806,   3, 474,\n",
       "       807,  19,   3, 475, 808, 177, 660,   6, 144,   6, 145,   2,   2,\n",
       "        40,  31,  73,  35,   3,  17, 809, 146, 230, 131, 810,  17, 318,\n",
       "        45,  19, 811,   6, 319, 476, 477,  14,   6, 476,  31,  82,  35,\n",
       "       163,  28,  12, 812, 813, 402, 478, 814, 479,  11,  72, 109,   3,\n",
       "       815, 319, 816,   2,   2,  40,   5,   3,  16,  12, 480, 164,  47,\n",
       "       817, 320, 818, 231, 819, 481, 132, 232, 820, 321, 321, 321, 123,\n",
       "       202, 821, 202, 822, 202, 823, 824,   2,   2, 273,   7,   5, 825,\n",
       "       826, 482, 482, 233, 827])"
      ]
     },
     "execution_count": 130,
     "metadata": {},
     "output_type": "execute_result"
    }
   ],
   "source": [
    "tokenizer=Tokenizer(num_words=vocab_dim,oov_token=oov_tok)\n",
    "tokenizer.fit_on_texts(training_sen)\n",
    "training_seq=tokenizer.texts_to_sequences(training_sen)\n",
    "training_pad=pad_sequences(training_seq,padding=padding_type,truncating=trunc_type,maxlen=max_len)\n",
    "training_pad[0]\n"
   ]
  },
  {
   "cell_type": "code",
   "execution_count": 131,
   "metadata": {},
   "outputs": [
    {
     "data": {
      "text/plain": [
       "array([  55,    3,  252,  384,   77,   78, 1362,    1,   13,   24,   46,\n",
       "          1,   11,    3,   82,   69,  406,   17,   92,    1,    1,   92,\n",
       "         92,  454,    7,   21,   45,   92,  706,    2,    2,  438,  331,\n",
       "         98,  234,  384,  184,  384,   44,   46,   54,    9,    1,    1,\n",
       "        392,    1,    3,   10,  448,  280,  213,    1,   11,    1,  428,\n",
       "          5,   13,    1,    1,   14,  242, 1301,  624,    1,  242,   38,\n",
       "        249,   29,   10,  448,    2,    2,   40,    3,  290,  229,   17,\n",
       "        215,    1,    3,    2,    2,   46,   40,    3,  254,  770,   16,\n",
       "         37,   34,  142,    6,   65,  395,    2,    2,  313,  376,  376,\n",
       "         38,    6,   18,  723,  241,    3,   46,   11,  213,  153,  428,\n",
       "          9,    2,    2,  204,    0,    0,    0,    0,    0,    0,    0,\n",
       "          0,    0,    0,    0,    0,    0,    0,    0,    0,    0,    0,\n",
       "          0,    0,    0,    0,    0,    0,    0,    0,    0,    0,    0,\n",
       "          0,    0,    0,    0,    0,    0,    0,    0,    0,    0,    0,\n",
       "          0,    0,    0,    0,    0,    0,    0,    0,    0,    0,    0,\n",
       "          0,    0,    0,    0,    0,    0,    0,    0,    0,    0,    0,\n",
       "          0,    0,    0,    0,    0,    0,    0,    0,    0,    0,    0,\n",
       "          0,    0,    0,    0,    0,    0,    0,    0,    0,    0,    0,\n",
       "          0,    0])"
      ]
     },
     "execution_count": 131,
     "metadata": {},
     "output_type": "execute_result"
    }
   ],
   "source": [
    "testing_seq=tokenizer.texts_to_sequences(testing_sen)\n",
    "testing_pad=pad_sequences(testing_seq,maxlen=max_len,padding='post',truncating='post')\n",
    "testing_pad[0]"
   ]
  },
  {
   "cell_type": "code",
   "execution_count": 148,
   "metadata": {},
   "outputs": [],
   "source": [
    "import tensorflow as tf\n",
    "from tensorflow.keras.models import Sequential\n",
    "from tensorflow.keras.layers import Dense,LSTM, Embedding,Bidirectional\n",
    "training_pad = np.array(training_pad)\n",
    "training_labels = np.array(training_labels)\n",
    "testing_pad = np.array(testing_pad)\n",
    "testing_labels = np.array(testing_labels)"
   ]
  },
  {
   "cell_type": "code",
   "execution_count": 155,
   "metadata": {},
   "outputs": [
    {
     "name": "stdout",
     "output_type": "stream",
     "text": [
      "Epoch 1/50\n",
      "80/80 [==============================] - 15s 100ms/step - loss: 0.6955 - accuracy: 0.5155 - val_loss: 0.7070 - val_accuracy: 0.3500\n",
      "Epoch 2/50\n",
      "80/80 [==============================] - 6s 76ms/step - loss: 0.6911 - accuracy: 0.5419 - val_loss: 0.7045 - val_accuracy: 0.3500\n",
      "Epoch 3/50\n",
      "80/80 [==============================] - 6s 71ms/step - loss: 0.6881 - accuracy: 0.5866 - val_loss: 0.7066 - val_accuracy: 0.3500\n",
      "Epoch 4/50\n",
      "80/80 [==============================] - 6s 71ms/step - loss: 0.6880 - accuracy: 0.5882 - val_loss: 0.7107 - val_accuracy: 0.3500\n",
      "Epoch 5/50\n",
      "80/80 [==============================] - 6s 77ms/step - loss: 0.6869 - accuracy: 0.5987 - val_loss: 0.7158 - val_accuracy: 0.3500\n",
      "Epoch 6/50\n",
      "80/80 [==============================] - 6s 78ms/step - loss: 0.6938 - accuracy: 0.5158 - val_loss: 0.7128 - val_accuracy: 0.3500\n",
      "Epoch 7/50\n",
      "80/80 [==============================] - 8s 94ms/step - loss: 0.6927 - accuracy: 0.5244 - val_loss: 0.7185 - val_accuracy: 0.3500\n",
      "Epoch 8/50\n",
      "80/80 [==============================] - 7s 85ms/step - loss: 0.6968 - accuracy: 0.4967 - val_loss: 0.7712 - val_accuracy: 0.3500\n",
      "Epoch 9/50\n",
      "80/80 [==============================] - 6s 73ms/step - loss: 0.7161 - accuracy: 0.4663 - val_loss: 0.7585 - val_accuracy: 0.3500\n",
      "Epoch 10/50\n",
      "80/80 [==============================] - 6s 70ms/step - loss: 0.6819 - accuracy: 0.5818 - val_loss: 0.7624 - val_accuracy: 0.3500\n",
      "Epoch 11/50\n",
      "80/80 [==============================] - 6s 73ms/step - loss: 0.6739 - accuracy: 0.5799 - val_loss: 1.1019 - val_accuracy: 0.2000\n",
      "Epoch 12/50\n",
      "80/80 [==============================] - 6s 75ms/step - loss: 0.6437 - accuracy: 0.4809 - val_loss: 2.0827 - val_accuracy: 0.2000\n",
      "Epoch 13/50\n",
      "80/80 [==============================] - 6s 71ms/step - loss: 0.6270 - accuracy: 0.5551 - val_loss: 1.9377 - val_accuracy: 0.2000\n",
      "Epoch 14/50\n",
      "80/80 [==============================] - 6s 69ms/step - loss: 0.6544 - accuracy: 0.4978 - val_loss: 1.5891 - val_accuracy: 0.3500\n",
      "Epoch 15/50\n",
      "80/80 [==============================] - 6s 69ms/step - loss: 0.6319 - accuracy: 0.5523 - val_loss: 1.7079 - val_accuracy: 0.2000\n",
      "Epoch 16/50\n",
      "80/80 [==============================] - 6s 69ms/step - loss: 0.6709 - accuracy: 0.5462 - val_loss: 1.7961 - val_accuracy: 0.2500\n",
      "Epoch 17/50\n",
      "80/80 [==============================] - 6s 70ms/step - loss: 0.6525 - accuracy: 0.5106 - val_loss: 1.9195 - val_accuracy: 0.2000\n",
      "Epoch 18/50\n",
      "80/80 [==============================] - 6s 69ms/step - loss: 0.6286 - accuracy: 0.5229 - val_loss: 2.0488 - val_accuracy: 0.2000\n",
      "Epoch 19/50\n",
      "80/80 [==============================] - 6s 71ms/step - loss: 0.6096 - accuracy: 0.5877 - val_loss: 2.1132 - val_accuracy: 0.2000\n",
      "Epoch 20/50\n",
      "80/80 [==============================] - 6s 70ms/step - loss: 0.6234 - accuracy: 0.5561 - val_loss: 2.3187 - val_accuracy: 0.2000\n",
      "Epoch 21/50\n",
      "80/80 [==============================] - 6s 70ms/step - loss: 0.5973 - accuracy: 0.5837 - val_loss: 2.4278 - val_accuracy: 0.2000\n",
      "Epoch 22/50\n",
      "80/80 [==============================] - 6s 72ms/step - loss: 0.6053 - accuracy: 0.5977 - val_loss: 2.4749 - val_accuracy: 0.2000\n",
      "Epoch 23/50\n",
      "80/80 [==============================] - 6s 69ms/step - loss: 0.5981 - accuracy: 0.5435 - val_loss: 2.6322 - val_accuracy: 0.2000\n",
      "Epoch 24/50\n",
      "80/80 [==============================] - 6s 74ms/step - loss: 0.6262 - accuracy: 0.5521 - val_loss: 2.7804 - val_accuracy: 0.2000\n",
      "Epoch 25/50\n",
      "80/80 [==============================] - 6s 70ms/step - loss: 0.5989 - accuracy: 0.5599 - val_loss: 2.8996 - val_accuracy: 0.2000\n",
      "Epoch 26/50\n",
      "80/80 [==============================] - 6s 71ms/step - loss: 0.5791 - accuracy: 0.5824 - val_loss: 3.0220 - val_accuracy: 0.2000\n",
      "Epoch 27/50\n",
      "80/80 [==============================] - 6s 69ms/step - loss: 0.5977 - accuracy: 0.5214 - val_loss: 3.1285 - val_accuracy: 0.2000\n",
      "Epoch 28/50\n",
      "80/80 [==============================] - 6s 70ms/step - loss: 0.6352 - accuracy: 0.5050 - val_loss: 3.2146 - val_accuracy: 0.2000\n",
      "Epoch 29/50\n",
      "80/80 [==============================] - 5s 69ms/step - loss: 0.5910 - accuracy: 0.5224 - val_loss: 3.3032 - val_accuracy: 0.2000\n",
      "Epoch 30/50\n",
      "80/80 [==============================] - 6s 71ms/step - loss: 0.5486 - accuracy: 0.6466 - val_loss: 3.3913 - val_accuracy: 0.2000\n",
      "Epoch 31/50\n",
      "80/80 [==============================] - 6s 70ms/step - loss: 0.6295 - accuracy: 0.4278 - val_loss: 3.3348 - val_accuracy: 0.2000\n",
      "Epoch 32/50\n",
      "80/80 [==============================] - 6s 70ms/step - loss: 0.5921 - accuracy: 0.5140 - val_loss: 3.4175 - val_accuracy: 0.2000\n",
      "Epoch 33/50\n",
      "80/80 [==============================] - 6s 72ms/step - loss: 0.6397 - accuracy: 0.5992 - val_loss: 3.4861 - val_accuracy: 0.2000\n",
      "Epoch 34/50\n",
      "80/80 [==============================] - 6s 70ms/step - loss: 0.5930 - accuracy: 0.4766 - val_loss: 3.5561 - val_accuracy: 0.2000\n",
      "Epoch 35/50\n",
      "80/80 [==============================] - 6s 72ms/step - loss: 0.5421 - accuracy: 0.6031 - val_loss: 3.6183 - val_accuracy: 0.2000\n",
      "Epoch 36/50\n",
      "80/80 [==============================] - 6s 75ms/step - loss: 0.5679 - accuracy: 0.6081 - val_loss: 3.6691 - val_accuracy: 0.2000\n",
      "Epoch 37/50\n",
      "80/80 [==============================] - 6s 74ms/step - loss: 0.6005 - accuracy: 0.5718 - val_loss: 3.6547 - val_accuracy: 0.2000\n",
      "Epoch 38/50\n",
      "80/80 [==============================] - 6s 71ms/step - loss: 0.5750 - accuracy: 0.6014 - val_loss: 3.7176 - val_accuracy: 0.2000\n",
      "Epoch 39/50\n",
      "80/80 [==============================] - 6s 76ms/step - loss: 0.6337 - accuracy: 0.5747 - val_loss: 3.7604 - val_accuracy: 0.2000\n",
      "Epoch 40/50\n",
      "80/80 [==============================] - 6s 73ms/step - loss: 0.5727 - accuracy: 0.5655 - val_loss: 3.8176 - val_accuracy: 0.2000\n",
      "Epoch 41/50\n",
      "80/80 [==============================] - 6s 73ms/step - loss: 0.6201 - accuracy: 0.5425 - val_loss: 3.8628 - val_accuracy: 0.2000\n",
      "Epoch 42/50\n",
      "80/80 [==============================] - 6s 73ms/step - loss: 0.6159 - accuracy: 0.5070 - val_loss: 3.9122 - val_accuracy: 0.2000\n",
      "Epoch 43/50\n",
      "80/80 [==============================] - 6s 74ms/step - loss: 0.5445 - accuracy: 0.6698 - val_loss: 3.9554 - val_accuracy: 0.2000\n",
      "Epoch 44/50\n",
      "80/80 [==============================] - 6s 74ms/step - loss: 0.5520 - accuracy: 0.5120 - val_loss: 3.9970 - val_accuracy: 0.2000\n",
      "Epoch 45/50\n",
      "80/80 [==============================] - 6s 74ms/step - loss: 0.5766 - accuracy: 0.6043 - val_loss: 4.0362 - val_accuracy: 0.2000\n",
      "Epoch 46/50\n",
      "80/80 [==============================] - 6s 72ms/step - loss: 0.5342 - accuracy: 0.6479 - val_loss: 4.0823 - val_accuracy: 0.2000\n",
      "Epoch 47/50\n",
      "80/80 [==============================] - 6s 77ms/step - loss: 0.5451 - accuracy: 0.5865 - val_loss: 4.1189 - val_accuracy: 0.2000\n",
      "Epoch 48/50\n",
      "80/80 [==============================] - 6s 75ms/step - loss: 0.6278 - accuracy: 0.5667 - val_loss: 4.1565 - val_accuracy: 0.2000\n",
      "Epoch 49/50\n",
      "80/80 [==============================] - 6s 74ms/step - loss: 0.6120 - accuracy: 0.5749 - val_loss: 4.1986 - val_accuracy: 0.2000\n",
      "Epoch 50/50\n",
      "80/80 [==============================] - 6s 73ms/step - loss: 0.5799 - accuracy: 0.6147 - val_loss: 4.2317 - val_accuracy: 0.2000\n"
     ]
    }
   ],
   "source": [
    "model=Sequential()\n",
    "model.add(Embedding(vocab_dim,embedding_dim,input_length=max_len))\n",
    "model.add(Bidirectional(LSTM(32,return_sequences=True)))\n",
    "model.add(Bidirectional(LSTM(16)))\n",
    "model.add(Dense(10,activation='relu'))\n",
    "model.add(Dense(1,activation='sigmoid'))\n",
    "model.compile(optimizer=tf.keras.optimizers.Adam(learning_rate=1e-3),loss='binary_crossentropy',metrics=['accuracy'])\n",
    "history=model.fit(training_pad,training_labels,epochs=50,batch_size=1,validation_data=(testing_pad,testing_labels))\n"
   ]
  },
  {
   "cell_type": "code",
   "execution_count": 152,
   "metadata": {},
   "outputs": [
    {
     "data": {
      "text/plain": [
       "{'loss': [0.6939372420310974,\n",
       "  0.69322669506073,\n",
       "  0.692685067653656,\n",
       "  0.6925801038742065,\n",
       "  0.6925187706947327,\n",
       "  0.6924036741256714,\n",
       "  0.6921012997627258,\n",
       "  0.6919680833816528,\n",
       "  0.6918908357620239,\n",
       "  0.6923717260360718],\n",
       " 'accuracy': [0.4749999940395355,\n",
       "  0.5375000238418579,\n",
       "  0.5375000238418579,\n",
       "  0.5375000238418579,\n",
       "  0.5375000238418579,\n",
       "  0.5375000238418579,\n",
       "  0.5375000238418579,\n",
       "  0.5375000238418579,\n",
       "  0.5375000238418579,\n",
       "  0.5375000238418579],\n",
       " 'val_loss': [0.6947249174118042,\n",
       "  0.695279598236084,\n",
       "  0.6958492994308472,\n",
       "  0.6963608860969543,\n",
       "  0.6979266405105591,\n",
       "  0.698723554611206,\n",
       "  0.6988028287887573,\n",
       "  0.6995342969894409,\n",
       "  0.701004147529602,\n",
       "  0.702580988407135],\n",
       " 'val_accuracy': [0.3499999940395355,\n",
       "  0.3499999940395355,\n",
       "  0.3499999940395355,\n",
       "  0.3499999940395355,\n",
       "  0.3499999940395355,\n",
       "  0.3499999940395355,\n",
       "  0.3499999940395355,\n",
       "  0.3499999940395355,\n",
       "  0.3499999940395355,\n",
       "  0.3499999940395355]}"
      ]
     },
     "execution_count": 152,
     "metadata": {},
     "output_type": "execute_result"
    }
   ],
   "source": [
    "history.history"
   ]
  },
  {
   "cell_type": "code",
   "execution_count": 157,
   "metadata": {},
   "outputs": [
    {
     "data": {
      "text/plain": [
       "<matplotlib.legend.Legend at 0x2462efc3948>"
      ]
     },
     "execution_count": 157,
     "metadata": {},
     "output_type": "execute_result"
    },
    {
     "data": {
      "image/png": "[encoded data removed]",
      "text/plain": [
       "<Figure size 432x288 with 1 Axes>"
      ]
     },
     "metadata": {
      "needs_background": "light"
     },
     "output_type": "display_data"
    }
   ],
   "source": [
    "plt.plot(history.history['accuracy'])\n",
    "plt.legend(['traning_acc'])\n",
    "plt.plot(history.history['val_accuracy'])\n",
    "plt.legend(['testing_acc'])"
   ]
  },
  {
   "cell_type": "code",
   "execution_count": 163,
   "metadata": {},
   "outputs": [
    {
     "name": "stdout",
     "output_type": "stream",
     "text": [
      "[[4 9]\n",
      " [7 0]]\n",
      "              precision    recall  f1-score   support\n",
      "\n",
      "           0       0.36      0.31      0.33        13\n",
      "           1       0.00      0.00      0.00         7\n",
      "\n",
      "    accuracy                           0.20        20\n",
      "   macro avg       0.18      0.15      0.17        20\n",
      "weighted avg       0.24      0.20      0.22        20\n",
      "\n",
      "0.0\n",
      "0.2\n"
     ]
    }
   ],
   "source": [
    "from sklearn.metrics import confusion_matrix,classification_report, f1_score,accuracy_score\n",
    "yhat=model.predict(testing_pad)\n",
    "yhat=[1 if num>.5 else 0 for num in yhat]\n",
    "print(confusion_matrix(testing_labels,yhat))\n",
    "print(classification_report(testing_labels,yhat))\n",
    "print(f1_score(testing_labels,yhat))\n",
    "print(accuracy_score(testing_labels,yhat))\n"
   ]
  },
  {
   "cell_type": "code",
   "execution_count": 164,
   "metadata": {},
   "outputs": [
    {
     "data": {
      "text/plain": [
       "array([0, 1, 0, 0, 0, 0, 0, 1, 0, 0, 1, 1, 0, 0, 0, 1, 0, 1, 0, 1],\n",
       "      dtype=int64)"
      ]
     },
     "execution_count": 164,
     "metadata": {},
     "output_type": "execute_result"
    }
   ],
   "source": [
    "testing_labels"
   ]
  },
  {
   "cell_type": "code",
   "execution_count": null,
   "metadata": {},
   "outputs": [],
   "source": []
  }
 ],
 "metadata": {
  "kernelspec": {
   "display_name": "Python 3",
   "language": "python",
   "name": "python3"
  },
  "language_info": {
   "codemirror_mode": {
    "name": "ipython",
    "version": 3
   },
   "file_extension": ".py",
   "mimetype": "text/x-python",
   "name": "python",
   "nbconvert_exporter": "python",
   "pygments_lexer": "ipython3",
   "version": "3.7.4"
  }
 },
 "nbformat": 4,
 "nbformat_minor": 4
}
